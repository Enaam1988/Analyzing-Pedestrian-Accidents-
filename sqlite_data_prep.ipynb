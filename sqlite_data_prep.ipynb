{
 "cells": [
  {
   "cell_type": "code",
   "execution_count": 1,
   "id": "e4841041",
   "metadata": {},
   "outputs": [],
   "source": [
    "import pandas as pd\n",
    "import sqlite3\n",
    "import requests"
   ]
  },
  {
   "cell_type": "code",
   "execution_count": 2,
   "id": "a3972ae8",
   "metadata": {},
   "outputs": [],
   "source": [
    "# Replace 'your_json_url' with the actual URL of your JSON data\n",
    "json_url ='https://www.data.act.gov.au/resource/emq2-8bc4.json'\n",
    "response = requests.get(json_url)\n",
    "json_data = response.json()\n"
   ]
  },
  {
   "cell_type": "code",
   "execution_count": 3,
   "id": "d4179bce",
   "metadata": {},
   "outputs": [],
   "source": [
    "# Assuming the JSON data is a list of dictionaries\n",
    "df = pd.json_normalize(json_data)\n"
   ]
  },
  {
   "cell_type": "code",
   "execution_count": 4,
   "id": "2b1e454e",
   "metadata": {},
   "outputs": [
    {
     "data": {
      "text/html": [
       "<div>\n",
       "<style scoped>\n",
       "    .dataframe tbody tr th:only-of-type {\n",
       "        vertical-align: middle;\n",
       "    }\n",
       "\n",
       "    .dataframe tbody tr th {\n",
       "        vertical-align: top;\n",
       "    }\n",
       "\n",
       "    .dataframe thead th {\n",
       "        text-align: right;\n",
       "    }\n",
       "</style>\n",
       "<table border=\"1\" class=\"dataframe\">\n",
       "  <thead>\n",
       "    <tr style=\"text-align: right;\">\n",
       "      <th></th>\n",
       "      <th>crash_id</th>\n",
       "      <th>crash_date</th>\n",
       "      <th>crash_time</th>\n",
       "      <th>severity</th>\n",
       "      <th>crash_type</th>\n",
       "      <th>pedestrians</th>\n",
       "      <th>pedestrian_casualties</th>\n",
       "      <th>reported_location</th>\n",
       "      <th>location.latitude</th>\n",
       "      <th>location.longitude</th>\n",
       "      <th>location.human_address</th>\n",
       "    </tr>\n",
       "  </thead>\n",
       "  <tbody>\n",
       "    <tr>\n",
       "      <th>0</th>\n",
       "      <td>1152106</td>\n",
       "      <td>2017-01-23T00:00:00.000</td>\n",
       "      <td>16:00</td>\n",
       "      <td>Injury</td>\n",
       "      <td>Struck pedestrian (On Road)</td>\n",
       "      <td>1</td>\n",
       "      <td>1</td>\n",
       "      <td>RATCLIFFE CRESCENT (CHALLINOR -&gt; CHALLINOR)</td>\n",
       "      <td>-35.23191</td>\n",
       "      <td>149.054575</td>\n",
       "      <td>NaN</td>\n",
       "    </tr>\n",
       "    <tr>\n",
       "      <th>1</th>\n",
       "      <td>1162345</td>\n",
       "      <td>2017-05-23T00:00:00.000</td>\n",
       "      <td>18:45</td>\n",
       "      <td>Injury</td>\n",
       "      <td>Struck pedestrian (On Road)</td>\n",
       "      <td>1</td>\n",
       "      <td>1</td>\n",
       "      <td>CAPTAIN COOK/FRANKLIN INTERSECTION</td>\n",
       "      <td>-35.320601</td>\n",
       "      <td>149.134962</td>\n",
       "      <td>NaN</td>\n",
       "    </tr>\n",
       "    <tr>\n",
       "      <th>2</th>\n",
       "      <td>1152674</td>\n",
       "      <td>2016-09-05T00:00:00.000</td>\n",
       "      <td>10:29</td>\n",
       "      <td>Injury</td>\n",
       "      <td>Struck pedestrian (Off Road)</td>\n",
       "      <td>1</td>\n",
       "      <td>1</td>\n",
       "      <td>BORROWDALE STREET (NORFOLK -&gt; BORROWDALE)</td>\n",
       "      <td>-35.342443</td>\n",
       "      <td>149.12875</td>\n",
       "      <td>NaN</td>\n",
       "    </tr>\n",
       "    <tr>\n",
       "      <th>3</th>\n",
       "      <td>1154539</td>\n",
       "      <td>2017-03-03T00:00:00.000</td>\n",
       "      <td>16:23</td>\n",
       "      <td>Injury</td>\n",
       "      <td>Struck pedestrian (On Road)</td>\n",
       "      <td>1</td>\n",
       "      <td>1</td>\n",
       "      <td>BARRY/KINGSLEY INTERSECTION</td>\n",
       "      <td>-35.275373</td>\n",
       "      <td>149.125049</td>\n",
       "      <td>NaN</td>\n",
       "    </tr>\n",
       "    <tr>\n",
       "      <th>4</th>\n",
       "      <td>1155513</td>\n",
       "      <td>2017-02-15T00:00:00.000</td>\n",
       "      <td>22:55</td>\n",
       "      <td>Property Damage Only</td>\n",
       "      <td>Struck pedestrian (On Road)</td>\n",
       "      <td>1</td>\n",
       "      <td>0</td>\n",
       "      <td>HALLORAN CLOSE (BOWMAN -&gt; HALLORAN)</td>\n",
       "      <td>-35.24957</td>\n",
       "      <td>149.070075</td>\n",
       "      <td>NaN</td>\n",
       "    </tr>\n",
       "  </tbody>\n",
       "</table>\n",
       "</div>"
      ],
      "text/plain": [
       "  crash_id               crash_date crash_time              severity  \\\n",
       "0  1152106  2017-01-23T00:00:00.000      16:00                Injury   \n",
       "1  1162345  2017-05-23T00:00:00.000      18:45                Injury   \n",
       "2  1152674  2016-09-05T00:00:00.000      10:29                Injury   \n",
       "3  1154539  2017-03-03T00:00:00.000      16:23                Injury   \n",
       "4  1155513  2017-02-15T00:00:00.000      22:55  Property Damage Only   \n",
       "\n",
       "                     crash_type pedestrians pedestrian_casualties  \\\n",
       "0   Struck pedestrian (On Road)           1                     1   \n",
       "1   Struck pedestrian (On Road)           1                     1   \n",
       "2  Struck pedestrian (Off Road)           1                     1   \n",
       "3   Struck pedestrian (On Road)           1                     1   \n",
       "4   Struck pedestrian (On Road)           1                     0   \n",
       "\n",
       "                             reported_location location.latitude  \\\n",
       "0  RATCLIFFE CRESCENT (CHALLINOR -> CHALLINOR)         -35.23191   \n",
       "1           CAPTAIN COOK/FRANKLIN INTERSECTION        -35.320601   \n",
       "2    BORROWDALE STREET (NORFOLK -> BORROWDALE)        -35.342443   \n",
       "3                  BARRY/KINGSLEY INTERSECTION        -35.275373   \n",
       "4          HALLORAN CLOSE (BOWMAN -> HALLORAN)         -35.24957   \n",
       "\n",
       "  location.longitude location.human_address  \n",
       "0         149.054575                    NaN  \n",
       "1         149.134962                    NaN  \n",
       "2          149.12875                    NaN  \n",
       "3         149.125049                    NaN  \n",
       "4         149.070075                    NaN  "
      ]
     },
     "execution_count": 4,
     "metadata": {},
     "output_type": "execute_result"
    }
   ],
   "source": [
    "df.head()"
   ]
  },
  {
   "cell_type": "code",
   "execution_count": 5,
   "id": "013d4114",
   "metadata": {},
   "outputs": [
    {
     "data": {
      "text/plain": [
       "(563, 11)"
      ]
     },
     "execution_count": 5,
     "metadata": {},
     "output_type": "execute_result"
    }
   ],
   "source": [
    "df.shape\n"
   ]
  },
  {
   "cell_type": "code",
   "execution_count": 6,
   "id": "d0742688",
   "metadata": {},
   "outputs": [],
   "source": [
    "conn = sqlite3.connect('crash_database.db')\n",
    "df.to_sql('crash', conn, if_exists='replace', index=False)\n",
    "conn.close()"
   ]
  },
  {
   "cell_type": "code",
   "execution_count": 7,
   "id": "fc54b25c",
   "metadata": {},
   "outputs": [],
   "source": [
    "# Connect to the SQLite database\n",
    "conn = sqlite3.connect('crash_database.db')\n",
    "cursor = conn.cursor()\n",
    "\n",
    "# Create a new table 'crash1' with the specified column types, including 'crash_id'\n",
    "cursor.execute(\"\"\"\n",
    "    CREATE TABLE IF NOT EXISTS crash1 (\n",
    "        crash_id INTEGER PRIMARY KEY,\n",
    "        crash_date DATE,\n",
    "        crash_time TEXT,\n",
    "        severity TEXT,\n",
    "        crash_type TEXT,\n",
    "        pedestrians INTEGER,\n",
    "        pedestrian_casualties INTEGER,\n",
    "        reported_location TEXT,\n",
    "        latitude REAL,\n",
    "        longitude REAL\n",
    "    )\n",
    "\"\"\")\n",
    "conn.commit()\n",
    "\n",
    "# Insert data from the existing 'crash' table into the 'crash1' table\n",
    "cursor.execute(\"\"\"\n",
    "    INSERT INTO crash1 (\n",
    "        crash_id,\n",
    "        crash_date,\n",
    "        crash_time,\n",
    "        severity,\n",
    "        crash_type,\n",
    "        pedestrians,\n",
    "        pedestrian_casualties,\n",
    "        reported_location,\n",
    "        latitude,\n",
    "        longitude\n",
    "    )\n",
    "    SELECT\n",
    "        CAST(crash_id AS INTEGER),  -- Convert crash_id to INTEGER \n",
    "        crash_date,\n",
    "        crash_time,\n",
    "        severity,\n",
    "        crash_type,\n",
    "        pedestrians,\n",
    "        pedestrian_casualties,\n",
    "        reported_location,\n",
    "        CAST([location.latitude] AS REAL) AS latitude,\n",
    "        CAST([location.longitude] AS REAL) AS longitude\n",
    "    FROM crash\n",
    "\"\"\")\n",
    "conn.commit()\n",
    "\n",
    "# Close the database connection\n",
    "conn.close()\n"
   ]
  },
  {
   "cell_type": "code",
   "execution_count": 12,
   "id": "35c07a35",
   "metadata": {},
   "outputs": [],
   "source": [
    "# Connect to your SQLite database\n",
    "conn = sqlite3.connect('crash_database.db')\n"
   ]
  },
  {
   "cell_type": "code",
   "execution_count": 13,
   "id": "65faee85",
   "metadata": {},
   "outputs": [],
   "source": [
    "# Execute SQL to update the crash_date column\n",
    "update_sql = \"\"\"\n",
    "UPDATE crash1\n",
    "SET crash_date = SUBSTR(crash_date, 1, 10)\n",
    "\"\"\"\n",
    "conn.execute(update_sql)\n",
    "\n",
    "# Commit the changes\n",
    "conn.commit()\n",
    "\n",
    "# Close the database connection\n",
    "conn.close()"
   ]
  },
  {
   "cell_type": "code",
   "execution_count": 14,
   "id": "a7e9a86e",
   "metadata": {},
   "outputs": [
    {
     "name": "stdout",
     "output_type": "stream",
     "text": [
      "2012-01-28\n",
      "2012-02-14\n",
      "2012-02-10\n",
      "2012-02-11\n",
      "2012-02-18\n"
     ]
    }
   ],
   "source": [
    "# Connect to your SQLite database\n",
    "conn = sqlite3.connect('crash_database.db')\n",
    "\n",
    "# Retrieve a few sample crash_date values\n",
    "query = \"SELECT DISTINCT crash_date FROM crash1 LIMIT 5\"\n",
    "sample_dates = conn.execute(query).fetchall()\n",
    "\n",
    "# Display the sample dates\n",
    "for date in sample_dates:\n",
    "    print(date[0])\n",
    "\n",
    "# Close the database connection\n",
    "conn.close()"
   ]
  },
  {
   "cell_type": "code",
   "execution_count": null,
   "id": "c66732f4",
   "metadata": {},
   "outputs": [],
   "source": []
  }
 ],
 "metadata": {
  "kernelspec": {
   "display_name": "Python 3 (ipykernel)",
   "language": "python",
   "name": "python3"
  },
  "language_info": {
   "codemirror_mode": {
    "name": "ipython",
    "version": 3
   },
   "file_extension": ".py",
   "mimetype": "text/x-python",
   "name": "python",
   "nbconvert_exporter": "python",
   "pygments_lexer": "ipython3",
   "version": "3.10.13"
  }
 },
 "nbformat": 4,
 "nbformat_minor": 5
}
